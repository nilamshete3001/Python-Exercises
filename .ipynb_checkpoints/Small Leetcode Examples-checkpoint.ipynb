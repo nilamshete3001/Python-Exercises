{
 "cells": [
  {
   "cell_type": "markdown",
   "metadata": {},
   "source": [
    "#### Identify all words those are palindrome"
   ]
  },
  {
   "cell_type": "code",
   "execution_count": 1,
   "metadata": {},
   "outputs": [
    {
     "name": "stdout",
     "output_type": "stream",
     "text": [
      "['lol', 'this', 'is', 'a', 'gag', 'i', 'didnt', 'laugh', 'so', 'much', 'in', 'a', 'long', 'time']\n",
      "['lol', 'a', 'gag', 'i', 'a']\n"
     ]
    }
   ],
   "source": [
    "import re\n",
    "\n",
    "def get_palindrome(words):\n",
    "    words = words.replace(\"\\'\",\"\").lower()\n",
    "    words = re.sub(r'\\W+',' ',words)\n",
    "    word_list = words.split(\" \")\n",
    "    print(word_list)\n",
    "    palindrome = [word for word in word_list if word == word[::-1]]\n",
    "    \n",
    "    return palindrome\n",
    "\n",
    "result = get_palindrome(\"Lol, this is a gag, I didn't laugh so much in a long time\")\n",
    "print(result)"
   ]
  },
  {
   "cell_type": "markdown",
   "metadata": {},
   "source": [
    "#### print FizzBuzz"
   ]
  },
  {
   "cell_type": "code",
   "execution_count": 2,
   "metadata": {},
   "outputs": [
    {
     "data": {
      "text/plain": [
       "[1,\n",
       " 'Fizz',\n",
       " 'Buzz',\n",
       " 'Fizz',\n",
       " 5,\n",
       " 'FizzBuzz',\n",
       " 7,\n",
       " 'Fizz',\n",
       " 'Buzz',\n",
       " 'Fizz',\n",
       " 11,\n",
       " 'FizzBuzz',\n",
       " 13,\n",
       " 'Fizz',\n",
       " 'Buzz',\n",
       " 'Fizz',\n",
       " 17,\n",
       " 'FizzBuzz',\n",
       " 19,\n",
       " 'Fizz',\n",
       " 'Buzz',\n",
       " 'Fizz',\n",
       " 23,\n",
       " 'FizzBuzz',\n",
       " 25,\n",
       " 'Fizz',\n",
       " 'Buzz',\n",
       " 'Fizz',\n",
       " 29,\n",
       " 'FizzBuzz',\n",
       " 31,\n",
       " 'Fizz',\n",
       " 'Buzz',\n",
       " 'Fizz',\n",
       " 35,\n",
       " 'FizzBuzz',\n",
       " 37,\n",
       " 'Fizz',\n",
       " 'Buzz',\n",
       " 'Fizz',\n",
       " 41,\n",
       " 'FizzBuzz',\n",
       " 43,\n",
       " 'Fizz',\n",
       " 'Buzz',\n",
       " 'Fizz',\n",
       " 47,\n",
       " 'FizzBuzz',\n",
       " 49,\n",
       " 'Fizz']"
      ]
     },
     "execution_count": 2,
     "metadata": {},
     "output_type": "execute_result"
    }
   ],
   "source": [
    "def fizzBuzz(num):\n",
    "    if num % 6 == 0:\n",
    "        return 'FizzBuzz'\n",
    "    elif num % 2 == 0:\n",
    "        return 'Fizz'\n",
    "    elif num % 3 == 0:\n",
    "        return 'Buzz'\n",
    "    else:\n",
    "        return num\n",
    "\n",
    "[fizzBuzz(i) for i in range(1,51)]"
   ]
  },
  {
   "cell_type": "markdown",
   "metadata": {},
   "source": [
    "#### First duplicate word"
   ]
  },
  {
   "cell_type": "code",
   "execution_count": 3,
   "metadata": {},
   "outputs": [
    {
     "name": "stdout",
     "output_type": "stream",
     "text": [
      "['this', 'is', 'just', 'a', 'wonder', 'wonder', 'why', 'do', 'i', 'have', 'this', 'in', 'mind']\n",
      "wonder\n"
     ]
    }
   ],
   "source": [
    "string = \"this is just a wonder, wonder why do I have this in mind\"\n",
    "\n",
    "def firstDupWord(sentence):\n",
    "    sentence = sentence.lower().strip()\n",
    "    sent_list = re.sub(r'\\W+', ' ',sentence).split(\" \")\n",
    "    \n",
    "    cleanStr = re.sub(\"[^a-zA-Z -]\", \"\", string)\n",
    "    words = cleanStr.lower().split(\" \")\n",
    "    print(sent_list)\n",
    "\n",
    "    seen = set()\n",
    "    for word in sent_list:\n",
    "        if word in seen:\n",
    "            return word\n",
    "        else:\n",
    "            seen.add(word)\n",
    "    \n",
    "print(firstDupWord(string))"
   ]
  },
  {
   "cell_type": "code",
   "execution_count": 4,
   "metadata": {},
   "outputs": [],
   "source": [
    "import re"
   ]
  },
  {
   "cell_type": "code",
   "execution_count": 5,
   "metadata": {},
   "outputs": [
    {
     "data": {
      "text/plain": [
       "'ni'"
      ]
     },
     "execution_count": 5,
     "metadata": {},
     "output_type": "execute_result"
    }
   ],
   "source": [
    "res = re.match(r'Ni', 'ninmm njis a gghvvfirl',flags = re.IGNORECASE)\n",
    "res.group(0)"
   ]
  },
  {
   "cell_type": "code",
   "execution_count": 6,
   "metadata": {},
   "outputs": [
    {
     "data": {
      "text/plain": [
       "'ni'"
      ]
     },
     "execution_count": 6,
     "metadata": {},
     "output_type": "execute_result"
    }
   ],
   "source": [
    "res = re.search(r'ni', 'lam is in nide of smthing in niwyeord', flags = re.IGNORECASE)\n",
    "res.group(0)"
   ]
  },
  {
   "cell_type": "code",
   "execution_count": 7,
   "metadata": {},
   "outputs": [
    {
     "data": {
      "text/plain": [
       "['Ni', 'ni', 'ni']"
      ]
     },
     "execution_count": 7,
     "metadata": {},
     "output_type": "execute_result"
    }
   ],
   "source": [
    "re.findall(r'ni','Nilam is in nide of smthing in niwyeord', flags = re.IGNORECASE)"
   ]
  },
  {
   "cell_type": "code",
   "execution_count": 8,
   "metadata": {},
   "outputs": [
    {
     "data": {
      "text/plain": [
       "['Nilam', 'is', 'in', 'nide of,smthing in niwyeord:sayshi']"
      ]
     },
     "execution_count": 8,
     "metadata": {},
     "output_type": "execute_result"
    }
   ],
   "source": [
    "re.split(r'[\" \",\",\",\":\"]', 'Nilam is in nide of,smthing in niwyeord:sayshi',maxsplit=3)"
   ]
  },
  {
   "cell_type": "code",
   "execution_count": 9,
   "metadata": {},
   "outputs": [
    {
     "data": {
      "text/plain": [
       "['Nilam', 'is', 'in', 'nide', 'of', 'smthing', 'in', 'niwyeord', 'sayshi']"
      ]
     },
     "execution_count": 9,
     "metadata": {},
     "output_type": "execute_result"
    }
   ],
   "source": [
    "re.split(r'[\" \",\",\",\":\"]', 'Nilam is in nide of,smthing in niwyeord:sayshi')"
   ]
  },
  {
   "cell_type": "code",
   "execution_count": 10,
   "metadata": {},
   "outputs": [
    {
     "data": {
      "text/plain": [
       "['AV', 'AV']"
      ]
     },
     "execution_count": 10,
     "metadata": {},
     "output_type": "execute_result"
    }
   ],
   "source": [
    "pattern=re.compile('AV')\n",
    "result=pattern.findall('AV abhmdkof bjhuh AV')\n",
    "result"
   ]
  },
  {
   "cell_type": "code",
   "execution_count": 11,
   "metadata": {},
   "outputs": [
    {
     "data": {
      "text/plain": [
       "['AV', 'AV']"
      ]
     },
     "execution_count": 11,
     "metadata": {},
     "output_type": "execute_result"
    }
   ],
   "source": [
    "pattern=re.compile('AV')\n",
    "result=re.findall(pattern,'AV abhmdkof bjhuh AV')\n",
    "result"
   ]
  },
  {
   "cell_type": "code",
   "execution_count": 12,
   "metadata": {},
   "outputs": [
    {
     "data": {
      "text/plain": [
       "['AV', 'is', 'na', 'nj', 'no', 'of', 'md']"
      ]
     },
     "execution_count": 12,
     "metadata": {},
     "output_type": "execute_result"
    }
   ],
   "source": [
    "result=re.findall(r'\\b\\w.','AV is najsoi njlf nokoid of mdooi')\n",
    "result\n"
   ]
  },
  {
   "cell_type": "code",
   "execution_count": 13,
   "metadata": {},
   "outputs": [
    {
     "data": {
      "text/plain": [
       "['gmail.com', 'test.in', 'analyticsvidhya.com', 'rest.biz']"
      ]
     },
     "execution_count": 13,
     "metadata": {},
     "output_type": "execute_result"
    }
   ],
   "source": [
    "result=re.findall(r'@(\\w+\\.\\w+)','abc.test@gmail.com, xyz@test.in, test.first@analyticsvidhya.com, first.test@rest.biz')\n",
    "result"
   ]
  },
  {
   "cell_type": "code",
   "execution_count": 14,
   "metadata": {},
   "outputs": [
    {
     "data": {
      "text/plain": [
       "['ncjsd', 'CLSDFJD']"
      ]
     },
     "execution_count": 14,
     "metadata": {},
     "output_type": "execute_result"
    }
   ],
   "source": [
    "result=re.findall(r'\\b[^aeiou ]\\w+','AV is ncjsd; ,CLSDFJD asnkjds of ifjsd', flags=re.IGNORECASE)\n",
    "result"
   ]
  },
  {
   "cell_type": "code",
   "execution_count": 16,
   "metadata": {},
   "outputs": [
    {
     "data": {
      "text/plain": [
       "[500, 100, 50]"
      ]
     },
     "execution_count": 16,
     "metadata": {},
     "output_type": "execute_result"
    }
   ],
   "source": [
    "a = [50,7,34,11,2, 100, 500,0]\n",
    "k = 2\n",
    "sorted(a,reverse=True)[0:k+1]\n",
    "\n",
    "a.sort(reverse=True)\n",
    "a[0:k+1]"
   ]
  }
 ],
 "metadata": {
  "kernelspec": {
   "display_name": "Python 3",
   "language": "python",
   "name": "python3"
  },
  "language_info": {
   "codemirror_mode": {
    "name": "ipython",
    "version": 3
   },
   "file_extension": ".py",
   "mimetype": "text/x-python",
   "name": "python",
   "nbconvert_exporter": "python",
   "pygments_lexer": "ipython3",
   "version": "3.7.4"
  }
 },
 "nbformat": 4,
 "nbformat_minor": 2
}
