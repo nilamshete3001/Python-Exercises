{
 "cells": [
  {
   "cell_type": "markdown",
   "metadata": {},
   "source": [
    "#### Tuple questions from: https://www.w3resource.com/python-exercises/tuple/"
   ]
  },
  {
   "cell_type": "markdown",
   "metadata": {},
   "source": [
    "#### Write a Python program to create a tuple"
   ]
  },
  {
   "cell_type": "code",
   "execution_count": 1,
   "metadata": {},
   "outputs": [
    {
     "name": "stdout",
     "output_type": "stream",
     "text": [
      "(1, 2, 3) () ()\n"
     ]
    }
   ],
   "source": [
    "t = 1,2,3\n",
    "t1 = ()\n",
    "t2 = tuple()\n",
    "\n",
    "print(t, t1, t2)"
   ]
  },
  {
   "cell_type": "markdown",
   "metadata": {},
   "source": [
    "####  Write a Python program to create a tuple with different data types"
   ]
  },
  {
   "cell_type": "code",
   "execution_count": 2,
   "metadata": {},
   "outputs": [
    {
     "name": "stdout",
     "output_type": "stream",
     "text": [
      "(13, 12.1, 'tuple', {'x': 12})\n"
     ]
    }
   ],
   "source": [
    "t = (13, 12.1,'tuple',{'x':12})\n",
    "print(t)"
   ]
  },
  {
   "cell_type": "markdown",
   "metadata": {},
   "source": [
    "#### Write a Python program to create a tuple with numbers and print one item"
   ]
  },
  {
   "cell_type": "code",
   "execution_count": 3,
   "metadata": {},
   "outputs": [
    {
     "name": "stdout",
     "output_type": "stream",
     "text": [
      "1 2 3\n"
     ]
    }
   ],
   "source": [
    "t = 1,2,3\n",
    "print(t[0],t[1],t[2])"
   ]
  },
  {
   "cell_type": "markdown",
   "metadata": {},
   "source": [
    "#### Write a Python program to unpack a tuple in several variables."
   ]
  },
  {
   "cell_type": "code",
   "execution_count": 4,
   "metadata": {},
   "outputs": [
    {
     "name": "stdout",
     "output_type": "stream",
     "text": [
      "3 2 1\n"
     ]
    }
   ],
   "source": [
    "t = 1,2,3\n",
    "x,y,z = t\n",
    "print(z,y,x)"
   ]
  },
  {
   "cell_type": "markdown",
   "metadata": {},
   "source": [
    "#### Write a Python program to add an item in a tuple"
   ]
  },
  {
   "cell_type": "code",
   "execution_count": 5,
   "metadata": {},
   "outputs": [
    {
     "name": "stdout",
     "output_type": "stream",
     "text": [
      "(1, 2, 3, 9, 8, 7)\n",
      "(1, 7, 8, 9, 2, 3)\n"
     ]
    }
   ],
   "source": [
    "t = 1,2,3\n",
    "tuples = t + (9,8,7)\n",
    "tuples1 = t[0:1] + (7,8,9) + t[1:]\n",
    "print(tuples)\n",
    "print(tuples1)"
   ]
  },
  {
   "cell_type": "markdown",
   "metadata": {},
   "source": [
    "####  Write a Python program to convert a tuple to a string"
   ]
  },
  {
   "cell_type": "code",
   "execution_count": 6,
   "metadata": {},
   "outputs": [
    {
     "name": "stdout",
     "output_type": "stream",
     "text": [
      "1235689\n"
     ]
    }
   ],
   "source": [
    "t1 = 1,2,3,5,6,8,9\n",
    "print(''.join(list(map(str,t1))))"
   ]
  },
  {
   "cell_type": "markdown",
   "metadata": {},
   "source": [
    "#### Write a Python program to get the 4th element and 4th element from last of a tuple. "
   ]
  },
  {
   "cell_type": "code",
   "execution_count": 7,
   "metadata": {},
   "outputs": [
    {
     "name": "stdout",
     "output_type": "stream",
     "text": [
      "5 5\n"
     ]
    }
   ],
   "source": [
    "t1 = 1,2,3,5,6,8,9\n",
    "print(t1[3], t1[-4])"
   ]
  },
  {
   "cell_type": "markdown",
   "metadata": {},
   "source": [
    "#### Write a Python program to find the repeated items of a tuple"
   ]
  },
  {
   "cell_type": "code",
   "execution_count": 8,
   "metadata": {},
   "outputs": [
    {
     "name": "stdout",
     "output_type": "stream",
     "text": [
      "(1, 2, 3, 1, 2, 3, 9, 8, 7)\n",
      "2\n"
     ]
    }
   ],
   "source": [
    "t = 1,2,3\n",
    "t1 = t + (9,8,7)\n",
    "t2 = t+t1\n",
    "print(t2)\n",
    "print(t2.count(1))"
   ]
  },
  {
   "cell_type": "markdown",
   "metadata": {},
   "source": [
    "#### Write a Python program to check whether an element exists within a tuple."
   ]
  },
  {
   "cell_type": "code",
   "execution_count": 9,
   "metadata": {},
   "outputs": [
    {
     "name": "stdout",
     "output_type": "stream",
     "text": [
      "yes\n"
     ]
    }
   ],
   "source": [
    "t = 1,2,4,5,6,8,9\n",
    "if 4 in t:\n",
    "    print('yes')\n",
    "else:\n",
    "    print('not in tuple')"
   ]
  },
  {
   "cell_type": "markdown",
   "metadata": {},
   "source": [
    "#### Write a Python program to convert a list to a tuple."
   ]
  },
  {
   "cell_type": "code",
   "execution_count": 10,
   "metadata": {},
   "outputs": [
    {
     "name": "stdout",
     "output_type": "stream",
     "text": [
      "(1, 2, 3, 4, 10, 11, 12, 13, 14)\n"
     ]
    }
   ],
   "source": [
    "items = [1,2,3,4,10,11,12,13,14]\n",
    "print(tuple(items))"
   ]
  },
  {
   "cell_type": "markdown",
   "metadata": {},
   "source": [
    "#### Write a Python program to remove an item from a tuple"
   ]
  },
  {
   "cell_type": "code",
   "execution_count": 11,
   "metadata": {},
   "outputs": [
    {
     "name": "stdout",
     "output_type": "stream",
     "text": [
      "(1, 2, 3, 5, 6, 7, 8, 9, 11, 12)\n",
      "(1, 2, 5, 6, 7, 8, 9)\n"
     ]
    }
   ],
   "source": [
    "tuples2 = 1,2,3,5,6,7,8,9,11,12\n",
    "print(tuples2)\n",
    "tuples2 = tuples2[0:2]+tuples2[3:8]\n",
    "print(tuples2)"
   ]
  },
  {
   "cell_type": "markdown",
   "metadata": {},
   "source": [
    "#### Write a Python program to slice a tuple."
   ]
  },
  {
   "cell_type": "code",
   "execution_count": 12,
   "metadata": {},
   "outputs": [
    {
     "name": "stdout",
     "output_type": "stream",
     "text": [
      "Extract elements from 4th element , (10, 9, 8, 7, 6, 5, 4, 3, 2, 1)\n",
      "Extract every 2nd element,  (13, 11, 9, 7, 5, 3, 1)\n",
      "Extract every 2nd element from right,  (1, 3, 5, 7, 9, 11, 13)\n",
      "Extract elements from 5th index to till 10th index,  (8, 7, 6, 5, 4)\n"
     ]
    }
   ],
   "source": [
    "t = (13,12,11,10,9,8,7,6,5,4,3,2,1)\n",
    "print(\"Extract elements from 4th element ,\",t[3:])\n",
    "print(\"Extract every 2nd element, \", t[::2])\n",
    "print(\"Extract every 2nd element from right, \", t[::-2])\n",
    "print(\"Extract elements from 5th index to till 10th index, \", t[5:10])"
   ]
  },
  {
   "cell_type": "markdown",
   "metadata": {},
   "source": [
    "#### Write a Python program to find the index of an item of a tuple"
   ]
  },
  {
   "cell_type": "code",
   "execution_count": 13,
   "metadata": {},
   "outputs": [
    {
     "name": "stdout",
     "output_type": "stream",
     "text": [
      "1\n",
      "8\n"
     ]
    }
   ],
   "source": [
    "t = (13,12,11,10,9,8,7,6,5,4,3,2,1)\n",
    "print(t.index(12))\n",
    "print(t.index(5))"
   ]
  },
  {
   "cell_type": "markdown",
   "metadata": {},
   "source": [
    "#### Write a Python program to find the length of a tuple"
   ]
  },
  {
   "cell_type": "code",
   "execution_count": 14,
   "metadata": {},
   "outputs": [
    {
     "name": "stdout",
     "output_type": "stream",
     "text": [
      "13\n"
     ]
    }
   ],
   "source": [
    "t = (13,12,11,10,9,8,7,6,5,4,3,2,1)\n",
    "print(len(t))"
   ]
  },
  {
   "cell_type": "markdown",
   "metadata": {},
   "source": [
    "#### Write a Python program to convert a tuple to a dictionary"
   ]
  },
  {
   "cell_type": "code",
   "execution_count": 15,
   "metadata": {},
   "outputs": [
    {
     "name": "stdout",
     "output_type": "stream",
     "text": [
      "{1: 'abc', 2: 'cde', 3: 'fgh'}\n"
     ]
    }
   ],
   "source": [
    "t = ((1,'abc'),(2,'cde'),(3,'fgh'))\n",
    "print((dict((key,val) for key,val in t)))"
   ]
  },
  {
   "cell_type": "markdown",
   "metadata": {},
   "source": [
    "#### Write a Python program to unzip a list of tuples into individual lists"
   ]
  },
  {
   "cell_type": "code",
   "execution_count": 16,
   "metadata": {},
   "outputs": [
    {
     "name": "stdout",
     "output_type": "stream",
     "text": [
      "[(1, 3, 5, 7), (2, 4, 6, 8)]\n"
     ]
    }
   ],
   "source": [
    "t = [(1,2),(3,4),(5,6),(7,8)]\n",
    "print(list(zip(*t)))"
   ]
  },
  {
   "cell_type": "markdown",
   "metadata": {},
   "source": [
    "#### Write a Python program to reverse a tuple"
   ]
  },
  {
   "cell_type": "code",
   "execution_count": 17,
   "metadata": {},
   "outputs": [
    {
     "name": "stdout",
     "output_type": "stream",
     "text": [
      "(1, 2, 3, 4, 5, 6, 7, 8, 9, 10, 11, 12, 13)\n",
      "(1, 2, 3, 4, 5, 6, 7, 8, 9, 10, 11, 12, 13)\n"
     ]
    }
   ],
   "source": [
    "t = (13,12,11,10,9,8,7,6,5,4,3,2,1)\n",
    "print(t[::-1])\n",
    "print(tuple(reversed(t)))"
   ]
  },
  {
   "cell_type": "markdown",
   "metadata": {},
   "source": [
    "#### Write a Python program to convert a list of tuples into a dictionary"
   ]
  },
  {
   "cell_type": "code",
   "execution_count": 18,
   "metadata": {},
   "outputs": [
    {
     "name": "stdout",
     "output_type": "stream",
     "text": [
      "{'x': [10, 11, 12], 'y': [5, 6, 7], 'z': [1]}\n"
     ]
    }
   ],
   "source": [
    "sample_list = [(\"x\", 10), (\"x\", 11), (\"x\", 12), (\"y\", 5), (\"y\", 6), (\"y\",7),(\"z\", 1)]\n",
    "d = {}\n",
    "for key, val in sample_list:\n",
    "    if key in d:\n",
    "        d[key].append(val)\n",
    "    else:\n",
    "        d[key] = [val]\n",
    "        \n",
    "print(d)"
   ]
  },
  {
   "cell_type": "markdown",
   "metadata": {},
   "source": [
    "#### Write a Python program to print a tuple with string formatting. Go to the editor\n",
    "Sample tuple : (100, 200, 300)\n",
    "Output : This is a tuple (100, 200, 300)"
   ]
  },
  {
   "cell_type": "code",
   "execution_count": 19,
   "metadata": {},
   "outputs": [
    {
     "name": "stdout",
     "output_type": "stream",
     "text": [
      "This is tuple (100, 200, 300)\n"
     ]
    }
   ],
   "source": [
    "t = (100, 200, 300)\n",
    "print(f'This is tuple {t}')"
   ]
  },
  {
   "cell_type": "markdown",
   "metadata": {},
   "source": [
    "#### Write a Python program to replace last value of tuples in a list. Go to the editor\n",
    "Sample list: [(10, 20, 40), (40, 50, 60), (70, 80, 90)]\n",
    "Expected Output: [(10, 20, 100), (40, 50, 100), (70, 80, 100)]"
   ]
  },
  {
   "cell_type": "code",
   "execution_count": 20,
   "metadata": {},
   "outputs": [
    {
     "name": "stdout",
     "output_type": "stream",
     "text": [
      "[(10, 20, 100), (40, 50, 100), (70, 80, 100)]\n"
     ]
    }
   ],
   "source": [
    "t = [(10, 20, 40), (40, 50, 60), (70, 80, 90)]\n",
    "final = [item[:-1]+ (100,) for item in t]\n",
    "print(final)"
   ]
  },
  {
   "cell_type": "markdown",
   "metadata": {},
   "source": [
    "#### Write a Python program to remove an empty tuple(s) from a list of tuples. Go to the editor\n",
    "Sample data: [(), (), ('',), ('a', 'b'), ('a', 'b', 'c'), ('d')]\n",
    "Expected output: [('',), ('a', 'b'), ('a', 'b', 'c'), 'd']"
   ]
  },
  {
   "cell_type": "code",
   "execution_count": 21,
   "metadata": {},
   "outputs": [
    {
     "name": "stdout",
     "output_type": "stream",
     "text": [
      "[('',), ('a', 'b'), ('a', 'b', 'c'), 'd']\n"
     ]
    }
   ],
   "source": [
    "t =  [(), (), ('',), ('a', 'b'), ('a', 'b', 'c'), ('d')]\n",
    "\n",
    "final = [item for item in t if len(item) != 0]\n",
    "print(final)"
   ]
  },
  {
   "cell_type": "markdown",
   "metadata": {},
   "source": [
    "#### Write a Python program to sort a tuple by its float element. Go to the editor\n",
    "Sample data: [('item1', '12.20'), ('item2', '15.10'), ('item3', '24.5')]\n",
    "Expected Output: [('item3', '24.5'), ('item2', '15.10'), ('item1', '12.20')]"
   ]
  },
  {
   "cell_type": "code",
   "execution_count": 22,
   "metadata": {},
   "outputs": [
    {
     "data": {
      "text/plain": [
       "[('item3', '24.5'), ('item2', '15.10'), ('item1', '12.20')]"
      ]
     },
     "execution_count": 22,
     "metadata": {},
     "output_type": "execute_result"
    }
   ],
   "source": [
    "t =  [('item1', '12.20'), ('item2', '15.10'), ('item3', '24.5')]\n",
    "sorted(t, key=lambda x: x[1], reverse=True)"
   ]
  },
  {
   "cell_type": "markdown",
   "metadata": {},
   "source": [
    "#### Write a Python program to count the elements in a list until an element is a tuple."
   ]
  },
  {
   "cell_type": "code",
   "execution_count": 23,
   "metadata": {},
   "outputs": [
    {
     "name": "stdout",
     "output_type": "stream",
     "text": [
      "4\n"
     ]
    }
   ],
   "source": [
    "t = [10,30,40,60,(11,22,33),60,(50,70)]\n",
    "count =0\n",
    "for num in t:\n",
    "    if isinstance(num, tuple):\n",
    "        break\n",
    "    count += 1\n",
    "print(count)"
   ]
  }
 ],
 "metadata": {
  "kernelspec": {
   "display_name": "Python 3",
   "language": "python",
   "name": "python3"
  },
  "language_info": {
   "codemirror_mode": {
    "name": "ipython",
    "version": 3
   },
   "file_extension": ".py",
   "mimetype": "text/x-python",
   "name": "python",
   "nbconvert_exporter": "python",
   "pygments_lexer": "ipython3",
   "version": "3.7.4"
  }
 },
 "nbformat": 4,
 "nbformat_minor": 2
}
