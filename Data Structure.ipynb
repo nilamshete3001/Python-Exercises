{
 "cells": [
  {
   "cell_type": "markdown",
   "metadata": {},
   "source": [
    "#### Itertools Accumulate"
   ]
  },
  {
   "cell_type": "code",
   "execution_count": 1,
   "metadata": {},
   "outputs": [
    {
     "data": {
      "text/plain": [
       "19"
      ]
     },
     "execution_count": 1,
     "metadata": {},
     "output_type": "execute_result"
    }
   ],
   "source": [
    "from itertools import accumulate\n",
    "#### Largest continuous \n",
    "x = [1,2,-1,3,4,10,-10,-10,-1]\n",
    "\n",
    "def largestSum(nums):\n",
    "    return max(accumulate(nums))\n",
    "\n",
    "largestSum(x)"
   ]
  },
  {
   "cell_type": "markdown",
   "metadata": {},
   "source": [
    "#### Stacks and Queues"
   ]
  },
  {
   "cell_type": "code",
   "execution_count": 2,
   "metadata": {},
   "outputs": [],
   "source": [
    "#### Stack Implementation using list\n",
    "\n",
    "class Stack:\n",
    "    \n",
    "    def __init__(self):\n",
    "        self.st = []\n",
    "    \n",
    "    def push(self,item):\n",
    "        self.st.append(item)\n",
    "        \n",
    "    def pop(self):\n",
    "        if len(self.st) > 0:\n",
    "            return self.st.pop()\n",
    "        else:\n",
    "            return None\n",
    "        \n",
    "    def peek(self):\n",
    "        if len(self.st) > 0:\n",
    "            return self.st[len(self.st)-1]\n",
    "        else:\n",
    "            return None\n",
    "    \n",
    "    def isEmpty(self):\n",
    "        return self.st == []\n",
    "    \n",
    "    def size(self):\n",
    "        return len(self.st)\n",
    "            "
   ]
  },
  {
   "cell_type": "markdown",
   "metadata": {},
   "source": [
    "#### Queue Implementation with List"
   ]
  },
  {
   "cell_type": "code",
   "execution_count": 3,
   "metadata": {},
   "outputs": [],
   "source": [
    "class Queue:\n",
    "    \n",
    "    def __init__(self):\n",
    "        self.queue = []\n",
    "        \n",
    "    def enqueue(self,item):\n",
    "        self.queue.insert(0,item)\n",
    "        \n",
    "    def dequeue(self):\n",
    "        if len(slf.queue) >0:\n",
    "            return self.queue.pop()\n",
    "        else:\n",
    "            return None\n",
    "    def isEmpty(self):\n",
    "        return self.queue == []"
   ]
  },
  {
   "cell_type": "markdown",
   "metadata": {},
   "source": [
    "#### Implement queue using two stacks"
   ]
  },
  {
   "cell_type": "code",
   "execution_count": 5,
   "metadata": {},
   "outputs": [
    {
     "name": "stdout",
     "output_type": "stream",
     "text": [
      "[1, 2][]\n",
      "1\n",
      "[3, 4][2]\n",
      "2\n",
      "3\n",
      "4\n"
     ]
    }
   ],
   "source": [
    "class QueueFromStacks:\n",
    "    \n",
    "    def __init__(self):\n",
    "        self.instack = []\n",
    "        self.outstack = []\n",
    "        \n",
    "    def enqueue(self,item):\n",
    "        self.instack.append(item)\n",
    "        \n",
    "    def dequeue(self):\n",
    "        if not self.outstack:\n",
    "            while self.instack:\n",
    "                self.outstack.append(self.instack.pop())\n",
    "                \n",
    "        return self.outstack.pop()\n",
    "    \n",
    "    def __str__(self):\n",
    "        return str(self.instack) +str( self.outstack)\n",
    "\n",
    "q1 = QueueFromStacks()\n",
    "q1.enqueue(1)\n",
    "q1.enqueue(2)\n",
    "print(q1)\n",
    "print(q1.dequeue())\n",
    "q1.enqueue(3)\n",
    "q1.enqueue(4)\n",
    "print(q1)\n",
    "print(q1.dequeue())\n",
    "print(q1.dequeue())\n",
    "print(q1.dequeue())\n",
    "                \n",
    "        "
   ]
  },
  {
   "cell_type": "markdown",
   "metadata": {},
   "source": [
    "#### Linked list"
   ]
  },
  {
   "cell_type": "markdown",
   "metadata": {},
   "source": [
    "##### Check cycle in Singly Linked List"
   ]
  },
  {
   "cell_type": "code",
   "execution_count": 6,
   "metadata": {},
   "outputs": [
    {
     "name": "stdout",
     "output_type": "stream",
     "text": [
      "True\n",
      "False\n"
     ]
    }
   ],
   "source": [
    "class Node:\n",
    "    \n",
    "    def __init__(self,value):\n",
    "        self.value = value\n",
    "        self.nextnode = None\n",
    "        \n",
    "\n",
    "a = Node(1)\n",
    "b = Node(2)\n",
    "c = Node(3)\n",
    "d = Node(4)\n",
    "\n",
    "a.nextnode = b\n",
    "b.nextnode = c\n",
    "c.nextnode = d\n",
    "d.nextnode = a\n",
    "\n",
    "\n",
    "e = Node(4)\n",
    "f = Node(5)\n",
    "g = Node(6)\n",
    "\n",
    "e.nextnode = f\n",
    "f.nextnode = g\n",
    "def check_cycle(node):\n",
    "    marker = node\n",
    "    visited = set()\n",
    "    while marker:\n",
    "        if marker in visited:\n",
    "            return True\n",
    "        visited.add(marker)\n",
    "        marker = marker.nextnode\n",
    "        \n",
    "    return False\n",
    "\n",
    "\n",
    "print(check_cycle(a))\n",
    "print(check_cycle(e))"
   ]
  },
  {
   "cell_type": "markdown",
   "metadata": {},
   "source": [
    "#### Reverse the Singly linked List"
   ]
  },
  {
   "cell_type": "code",
   "execution_count": 7,
   "metadata": {},
   "outputs": [
    {
     "name": "stdout",
     "output_type": "stream",
     "text": [
      "4 5 6 7\n",
      "7 6 5 4\n"
     ]
    }
   ],
   "source": [
    "v = Node(4)\n",
    "x = Node(5)\n",
    "y = Node(6)\n",
    "z = Node(7)\n",
    "\n",
    "v.nextnode = x\n",
    "x.nextnode = y\n",
    "y.nextnode = z\n",
    "\n",
    "print(v.value, v.nextnode.value, x.nextnode.value, y.nextnode.value)\n",
    "def reverse(head):\n",
    "    cur = head\n",
    "    nextn = None\n",
    "    prev = None\n",
    "    \n",
    "    while cur:\n",
    "        nextn = cur.nextnode\n",
    "        cur.nextnode = prev\n",
    "        prev = cur\n",
    "        cur = nextn\n",
    "    \n",
    "    head = prev\n",
    "    return head\n",
    "\n",
    "result = reverse(v)\n",
    "print(result.value, result.nextnode.value, result.nextnode.nextnode.value, result.nextnode.nextnode.nextnode.value)"
   ]
  },
  {
   "cell_type": "markdown",
   "metadata": {},
   "source": [
    "#### Recursion"
   ]
  },
  {
   "cell_type": "markdown",
   "metadata": {},
   "source": [
    "##### Write a recursive function which takes an integer and computes the cumulative sum of 0 to that integer"
   ]
  },
  {
   "cell_type": "code",
   "execution_count": 3,
   "metadata": {},
   "outputs": [
    {
     "name": "stdout",
     "output_type": "stream",
     "text": [
      "15\n"
     ]
    }
   ],
   "source": [
    "def cumSum(n):\n",
    "    if n == 1:\n",
    "        return 1\n",
    "    else:\n",
    "        return n+cumSum(n-1)\n",
    "    \n",
    "\n",
    "print(cumSum(5))"
   ]
  },
  {
   "cell_type": "markdown",
   "metadata": {},
   "source": [
    "##### Given an integer, create a function which returns the sum of all the individual digits in that integer. For example: if n = 4321, return 4+3+2+1"
   ]
  },
  {
   "cell_type": "code",
   "execution_count": 9,
   "metadata": {},
   "outputs": [
    {
     "name": "stdout",
     "output_type": "stream",
     "text": [
      "15\n"
     ]
    }
   ],
   "source": [
    "def sumFunc(n):\n",
    "    if n < 9:\n",
    "        return n\n",
    "    else:\n",
    "        return n%10+sumFunc(n//10)\n",
    "    \n",
    "print(sumFunc(54321))\n",
    "    "
   ]
  },
  {
   "cell_type": "markdown",
   "metadata": {},
   "source": [
    "##### Create a function called word_split() which takes in a string phrase and a set list_of_words. The function will then determine if it is possible to split the string in a way in which words can be made from the list of words. You can assume the phrase will only contain words found in the dictionary if it is completely splittable.\n"
   ]
  },
  {
   "cell_type": "code",
   "execution_count": 8,
   "metadata": {},
   "outputs": [
    {
     "name": "stdout",
     "output_type": "stream",
     "text": [
      "['the', 'man', 'ran']\n",
      "['i', 'love', 'dogs', 'John']\n",
      "[]\n"
     ]
    }
   ],
   "source": [
    "\n",
    "def word_split(phrase,list_of_words, output = None):\n",
    "    \n",
    "    if output is None:\n",
    "        output = []\n",
    "    \n",
    "    for word in list_of_words:\n",
    "        if phrase.startswith(word):\n",
    "            output.append(word)\n",
    "            return word_split(phrase[len(word):],list_of_words,output)\n",
    "        \n",
    "    return output\n",
    "\n",
    "print(word_split('themanran',['the','ran','man']))\n",
    "print(word_split('ilovedogsJohn',['i','am','a','dogs','lover','love','John']))\n",
    "print(word_split('themanran',['clown','ran','man']))"
   ]
  },
  {
   "cell_type": "markdown",
   "metadata": {},
   "source": [
    "##### Reverse Strin using recursion"
   ]
  },
  {
   "cell_type": "code",
   "execution_count": 11,
   "metadata": {},
   "outputs": [
    {
     "data": {
      "text/plain": [
       "'dcba'"
      ]
     },
     "execution_count": 11,
     "metadata": {},
     "output_type": "execute_result"
    }
   ],
   "source": [
    "def reverse(n):\n",
    "    if len(n) == 1:\n",
    "        return n\n",
    "    else:\n",
    "        return n[-1]+reverse(n[:-1])\n",
    "\n",
    "reverse('abcd')"
   ]
  },
  {
   "cell_type": "markdown",
   "metadata": {},
   "source": [
    "##### Fbonacci using Looping"
   ]
  },
  {
   "cell_type": "code",
   "execution_count": 6,
   "metadata": {},
   "outputs": [
    {
     "data": {
      "text/plain": [
       "(55, [0, 1, 1, 2, 3, 5, 8, 13, 21, 34, 55])"
      ]
     },
     "execution_count": 6,
     "metadata": {},
     "output_type": "execute_result"
    }
   ],
   "source": [
    "def fibLoop(n):\n",
    "    a,b = 0,1\n",
    "    nums = [0]\n",
    "    for i in range(n):\n",
    "        a,b = b,a+b\n",
    "        nums.append(a)\n",
    "    return a, nums\n",
    "\n",
    "fibLoop(10)     "
   ]
  },
  {
   "cell_type": "markdown",
   "metadata": {},
   "source": [
    "##### Fibonacci series using Recursion"
   ]
  },
  {
   "cell_type": "code",
   "execution_count": 8,
   "metadata": {},
   "outputs": [
    {
     "data": {
      "text/plain": [
       "55"
      ]
     },
     "execution_count": 8,
     "metadata": {},
     "output_type": "execute_result"
    }
   ],
   "source": [
    "a,b = 0,1\n",
    "def fibRecur(n):\n",
    "    if n == 1 or n == 0:\n",
    "        return n\n",
    "    else:\n",
    "        return fibRecur(n-1)+fibRecur(n-2)\n",
    "    \n",
    "fibRecur(10)"
   ]
  },
  {
   "cell_type": "markdown",
   "metadata": {},
   "source": [
    "##### Fibonacci Series using Dynamic Programming"
   ]
  },
  {
   "cell_type": "code",
   "execution_count": 24,
   "metadata": {},
   "outputs": [
    {
     "data": {
      "text/plain": [
       "55"
      ]
     },
     "execution_count": 24,
     "metadata": {},
     "output_type": "execute_result"
    }
   ],
   "source": [
    "def fibDynam(n, cache):\n",
    "    if n == 0 or n ==1:\n",
    "        return n\n",
    "    \n",
    "    if cache[n] != None:\n",
    "        return cache[n]\n",
    "    else:\n",
    "        cache[n] = fibDynam(n-1,cache) + fibDynam(n-2,cache)\n",
    "    \n",
    "    return cache[n] \n",
    "        \n",
    "fibDynam(10, [None]*(10+1))"
   ]
  },
  {
   "cell_type": "markdown",
   "metadata": {},
   "source": [
    "##### Recursion : Coin Change Problem"
   ]
  },
  {
   "cell_type": "code",
   "execution_count": 27,
   "metadata": {},
   "outputs": [
    {
     "data": {
      "text/plain": [
       "8"
      ]
     },
     "execution_count": 27,
     "metadata": {},
     "output_type": "execute_result"
    }
   ],
   "source": [
    "def rec_coin_dynam(target, coins, results):\n",
    "    \n",
    "    min_coins = target\n",
    "    \n",
    "    if target in coins:\n",
    "        results[target] = 1\n",
    "        return 1\n",
    "    elif results[target] > 0:\n",
    "        return results[target]\n",
    "    else:\n",
    "        for i in [c for c in coins if c <=target]:\n",
    "            num_coins = 1 + rec_coin_dynam(target-i, coins, results)\n",
    "            \n",
    "            if num_coins < min_coins:\n",
    "                min_coins = num_coins\n",
    "                results[target] = min_coins\n",
    "        \n",
    "    return min_coins\n",
    "\n",
    "\n",
    "target = 74\n",
    "coins = [1,5,10,25]\n",
    "results = [0]*(target+1)\n",
    "\n",
    "rec_coin_dynam(target,coins,results)"
   ]
  },
  {
   "cell_type": "markdown",
   "metadata": {},
   "source": [
    "#### Trees"
   ]
  },
  {
   "cell_type": "code",
   "execution_count": 32,
   "metadata": {},
   "outputs": [],
   "source": [
    "# Binary Tree Implementation using function\n",
    "def binaryTree(r):\n",
    "    return [r,[],[]]\n",
    "\n",
    "def insertLeft(root, newBranch):\n",
    "    t = root.pop(1)\n",
    "    if len(t) > 1:\n",
    "        root.insert(1,[newBranch, t, []])\n",
    "    else:\n",
    "        root.insert(1,[newBranch, [],[]])\n",
    "        \n",
    "def insertRight(root, newBranch):\n",
    "    t = root.pop(2)\n",
    "    if len(t) > 1:\n",
    "        root.insert(2,[newBranch,[],t])\n",
    "    else:\n",
    "        root.insert(2, [newBranch, [],[]])\n",
    "        \n",
    "def getRoot(root):\n",
    "    return root[0]\n",
    "\n",
    "def setRoot(newval):\n",
    "    root[0] = newval\n",
    "    \n",
    "def getLeftChild(root):\n",
    "    return root[1]\n",
    "\n",
    "def getRightChild(root):\n",
    "    return root[2]"
   ]
  },
  {
   "cell_type": "code",
   "execution_count": 34,
   "metadata": {},
   "outputs": [],
   "source": [
    "# Binary Tree Implementation\n",
    "\n",
    "class BinaryTree:\n",
    "    def __init__(self,root):\n",
    "        self.root = root\n",
    "        self.leftChild = None\n",
    "        self.rightChild = None\n",
    "        \n",
    "    def insertLeftChild(self, newNode):\n",
    "        if self.leftChild == None:\n",
    "            self.leftChild = BinaryTree(newNode)\n",
    "        else:\n",
    "            t = BinaryTree(newNode)\n",
    "            t.leftChild = self.leftChild\n",
    "            self.leftChild = t\n",
    "        \n",
    "    def insertRightChild(self, newNode):\n",
    "        if self.rightChild == None:\n",
    "            self.rightChild = BinaryTree(newNode)\n",
    "        else:\n",
    "            t = BinaryTree(newNode)\n",
    "            t.rightChild = self.rightChild\n",
    "            self.rightChild = t\n",
    "            \n",
    "    def getRoot(self):\n",
    "        return self.root\n",
    "    \n",
    "    def setRoot(self,node):\n",
    "        self.root = node\n",
    "        \n",
    "    def getLeftChild(self):\n",
    "        return self.leftChild\n",
    "    \n",
    "    def getRightChild(self):\n",
    "        return self.rightChild\n",
    "    \n",
    "    "
   ]
  },
  {
   "cell_type": "code",
   "execution_count": 35,
   "metadata": {},
   "outputs": [],
   "source": [
    "#Pre-order Tree Traversal\n",
    "def preOrder(tree):\n",
    "    if tree:\n",
    "        print(tree.getRoot)\n",
    "        preOrder(tree.getLeftChild)\n",
    "        preOrder(tree.getRightChild)\n",
    "\n",
    "# In-order Tree Traversal\n",
    "def inOrder(tree):\n",
    "    if tree:\n",
    "        inOrder(tree.getLeftChild)\n",
    "        print(tree.getRoot)\n",
    "        inOrder(tree.getRightChild)\n",
    "        \n",
    "# Post-order Tree Traversal\n",
    "def postOrder(tree):\n",
    "    if tree:\n",
    "        postOrder(tree.getLeftChild)\n",
    "        postOrder(tree.getRightChild)\n",
    "        print(tree.getRoot)"
   ]
  },
  {
   "cell_type": "markdown",
   "metadata": {},
   "source": [
    "#### Binary Search "
   ]
  },
  {
   "cell_type": "markdown",
   "metadata": {},
   "source": [
    "##### Binary Search Implementaation"
   ]
  },
  {
   "cell_type": "code",
   "execution_count": 38,
   "metadata": {},
   "outputs": [
    {
     "data": {
      "text/plain": [
       "False"
      ]
     },
     "execution_count": 38,
     "metadata": {},
     "output_type": "execute_result"
    }
   ],
   "source": [
    "def binary_search(arr, ele):\n",
    "    first = 0\n",
    "    last = len(arr)-1\n",
    "    found = False\n",
    "    \n",
    "    while first <= last and not found:\n",
    "        mid = (first+last)//2\n",
    "        \n",
    "        if arr[mid] == ele:\n",
    "            found = True\n",
    "        elif ele < arr[mid]:\n",
    "            last = mid-1\n",
    "        else:\n",
    "            first = mid+1\n",
    "            \n",
    "    return found\n",
    "\n",
    "arr = [0,1,2,3,4,5,6,7,8,9,10]\n",
    "\n",
    "binary_search(arr, 13)"
   ]
  },
  {
   "cell_type": "markdown",
   "metadata": {},
   "source": [
    "##### Binary search using Recursion"
   ]
  },
  {
   "cell_type": "code",
   "execution_count": 41,
   "metadata": {},
   "outputs": [
    {
     "data": {
      "text/plain": [
       "True"
      ]
     },
     "execution_count": 41,
     "metadata": {},
     "output_type": "execute_result"
    }
   ],
   "source": [
    "def binary_search_recur(arr, ele):\n",
    "    if len(arr) == 0:\n",
    "        return False\n",
    "    else:\n",
    "        mid = len(arr)//2\n",
    "        \n",
    "        if arr[mid] == ele:\n",
    "            return True\n",
    "        else:\n",
    "            if ele < arr[mid]:\n",
    "                return binary_search_recur(arr[:mid], ele)\n",
    "            else:\n",
    "                return binary_search_recur(arr[mid+1:], ele)\n",
    "            \n",
    "arr = [0,1,2,3,4,5,6,7,8,9,10]\n",
    "\n",
    "binary_search_recur(arr, 6)"
   ]
  },
  {
   "cell_type": "code",
   "execution_count": null,
   "metadata": {},
   "outputs": [],
   "source": []
  }
 ],
 "metadata": {
  "kernelspec": {
   "display_name": "Python 3",
   "language": "python",
   "name": "python3"
  },
  "language_info": {
   "codemirror_mode": {
    "name": "ipython",
    "version": 3
   },
   "file_extension": ".py",
   "mimetype": "text/x-python",
   "name": "python",
   "nbconvert_exporter": "python",
   "pygments_lexer": "ipython3",
   "version": "3.7.4"
  }
 },
 "nbformat": 4,
 "nbformat_minor": 2
}
